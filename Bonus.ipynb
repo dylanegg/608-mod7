{
 "cells": [
  {
   "cell_type": "code",
   "execution_count": 1,
   "id": "d040cc23-5a35-47a4-ad8a-b97dd1992f30",
   "metadata": {},
   "outputs": [
    {
     "name": "stdout",
     "output_type": "stream",
     "text": [
      "Using matplotlib backend: Qt5Agg\n"
     ]
    }
   ],
   "source": [
    "#Bonus.ipynb\n",
    "\n",
    "#Import needed Modules\n",
    "\n",
    "%matplotlib\n",
    "import pandas as pd\n",
    "from scipy import stats\n",
    "import seaborn as sns"
   ]
  },
  {
   "cell_type": "code",
   "execution_count": 2,
   "id": "366e6726-f11c-40a9-9336-d78d9b49fef6",
   "metadata": {},
   "outputs": [],
   "source": [
    "pts = pd.read_csv('chiefs_points_for.csv')"
   ]
  },
  {
   "cell_type": "code",
   "execution_count": 9,
   "id": "8a124745-19ae-4afc-826b-614c0e9d3f17",
   "metadata": {},
   "outputs": [],
   "source": [
    "pts.columns = ['Year', 'Points']"
   ]
  },
  {
   "cell_type": "code",
   "execution_count": 11,
   "id": "22b9625d-6c60-4f9a-a38c-191557657ad2",
   "metadata": {},
   "outputs": [
    {
     "data": {
      "text/plain": [
       "count     61.000000\n",
       "mean     339.737705\n",
       "std       77.274813\n",
       "min      176.000000\n",
       "25%      291.000000\n",
       "50%      334.000000\n",
       "75%      386.000000\n",
       "max      565.000000\n",
       "Name: Points, dtype: float64"
      ]
     },
     "execution_count": 11,
     "metadata": {},
     "output_type": "execute_result"
    }
   ],
   "source": [
    "pts.Points.describe()"
   ]
  },
  {
   "cell_type": "code",
   "execution_count": 14,
   "id": "a06faf09-2d61-4ae6-936a-3ac1abeabef0",
   "metadata": {},
   "outputs": [],
   "source": [
    "linreg = stats.linregress(x=pts.Year, y=pts.Points)"
   ]
  },
  {
   "cell_type": "code",
   "execution_count": 15,
   "id": "78d3fc47-b054-4fff-a68f-318f84b171f7",
   "metadata": {},
   "outputs": [
    {
     "data": {
      "text/plain": [
       "1.3090428344791116"
      ]
     },
     "execution_count": 15,
     "metadata": {},
     "output_type": "execute_result"
    }
   ],
   "source": [
    "linreg.slope"
   ]
  },
  {
   "cell_type": "code",
   "execution_count": 16,
   "id": "f2c00708-e5a1-489d-8eea-0a07dee571d1",
   "metadata": {},
   "outputs": [
    {
     "data": {
      "text/plain": [
       "-2265.2575356953994"
      ]
     },
     "execution_count": 16,
     "metadata": {},
     "output_type": "execute_result"
    }
   ],
   "source": [
    "linreg.intercept"
   ]
  },
  {
   "cell_type": "code",
   "execution_count": 17,
   "id": "0402ed16-e14a-4440-83d1-ef192a7a58aa",
   "metadata": {},
   "outputs": [],
   "source": [
    "sns.set_style('whitegrid')\n",
    "\n",
    "axes = sns.regplot(x=pts.Year, y=pts.Points)"
   ]
  },
  {
   "cell_type": "code",
   "execution_count": 18,
   "id": "c98bcd4a-4c5e-46d4-8b1f-00b902e15058",
   "metadata": {},
   "outputs": [
    {
     "data": {
      "text/plain": [
       "380.3180327868854"
      ]
     },
     "execution_count": 18,
     "metadata": {},
     "output_type": "execute_result"
    }
   ],
   "source": [
    "linear_regression.slope * 2021 + linear_regression.intercept"
   ]
  }
 ],
 "metadata": {
  "kernelspec": {
   "display_name": "Python 3",
   "language": "python",
   "name": "python3"
  },
  "language_info": {
   "codemirror_mode": {
    "name": "ipython",
    "version": 3
   },
   "file_extension": ".py",
   "mimetype": "text/x-python",
   "name": "python",
   "nbconvert_exporter": "python",
   "pygments_lexer": "ipython3",
   "version": "3.8.11"
  }
 },
 "nbformat": 4,
 "nbformat_minor": 5
}
